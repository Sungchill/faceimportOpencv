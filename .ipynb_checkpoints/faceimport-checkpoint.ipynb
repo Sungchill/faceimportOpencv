{
 "cells": [
  {
   "cell_type": "code",
   "execution_count": 1,
   "id": "a3e78ba5",
   "metadata": {},
   "outputs": [],
   "source": [
    "import cv2\n",
    "import numpy as np\n",
    "import os"
   ]
  },
  {
   "cell_type": "code",
   "execution_count": 149,
   "id": "ab9d774a",
   "metadata": {},
   "outputs": [],
   "source": [
    "path_dir = \"images/faces/\"\n",
    "file_list = os.listdir(path_dir)"
   ]
  },
  {
   "cell_type": "code",
   "execution_count": 150,
   "id": "941dee84",
   "metadata": {},
   "outputs": [
    {
     "data": {
      "text/plain": [
       "'yoona1.jpg'"
      ]
     },
     "execution_count": 150,
     "metadata": {},
     "output_type": "execute_result"
    }
   ],
   "source": [
    "file_list[0]"
   ]
  },
  {
   "cell_type": "code",
   "execution_count": 151,
   "id": "ac0452d6",
   "metadata": {},
   "outputs": [],
   "source": [
    "file_name_list = []\n",
    "\n",
    "for i in range(len(file_list)):\n",
    "    file_name_list.append(file_list[i].replace(\".jpg\",\"\"))"
   ]
  },
  {
   "cell_type": "code",
   "execution_count": 152,
   "id": "3b157fdc",
   "metadata": {},
   "outputs": [],
   "source": [
    "def Cutting_face_save(image, name):\n",
    "    \n",
    "    face_cascade = cv2.CascadeClassifier('models/haarcascade_frontalface_default.xml')\n",
    "    gray = cv2.cvtColor(image, cv2.COLOR_BGR2GRAY)\n",
    "    faces = face_cascade.detectMultiScale(gray, 1.3,5)\n",
    "    for(x,y,w,h) in faces:\n",
    "    #     cv2.rectangle(image, (x,y), (x+w, y+h), (255,0,0), 2)\n",
    "        cropped = image[y: y+h, x: x+w]\n",
    "        resize = cv2.resize(cropped,(180,180))\n",
    "        gray_img = cv2.cvtColor(resize, cv2.COLOR_BGR2GRAY)\n",
    "    #     cv2.imshow(\"crop&resize\", resize)\n",
    "    #     cv2.waitKey(0)\n",
    "    #     cv2.destroyAllWindows()\n",
    "        cv2.imwrite(f\"images/cutting/{name}.jpg\", gray_img)"
   ]
  },
  {
   "cell_type": "code",
   "execution_count": 153,
   "id": "44cdf05b",
   "metadata": {},
   "outputs": [],
   "source": [
    "for name in file_name_list:\n",
    "    img = cv2.imread(\"images/faces/\"+name+\".jpg\")\n",
    "    Cutting_face_save(img, name)"
   ]
  },
  {
   "cell_type": "code",
   "execution_count": null,
   "id": "8da6eb5f",
   "metadata": {},
   "outputs": [],
   "source": []
  }
 ],
 "metadata": {
  "kernelspec": {
   "display_name": "Python 3 (ipykernel)",
   "language": "python",
   "name": "python3"
  },
  "language_info": {
   "codemirror_mode": {
    "name": "ipython",
    "version": 3
   },
   "file_extension": ".py",
   "mimetype": "text/x-python",
   "name": "python",
   "nbconvert_exporter": "python",
   "pygments_lexer": "ipython3",
   "version": "3.9.12"
  }
 },
 "nbformat": 4,
 "nbformat_minor": 5
}
